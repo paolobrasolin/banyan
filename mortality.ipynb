{
 "cells": [
  {
   "cell_type": "markdown",
   "id": "d171ec01-4d85-4065-911a-ab7c7b9eeb23",
   "metadata": {},
   "source": [
    "# mortality\n",
    "\n",
    "http://dati.istat.it/Index.aspx?DataSetCode=DCIS_MORTALITA1#"
   ]
  },
  {
   "cell_type": "code",
   "execution_count": 1,
   "id": "02beb40b-e69c-4b46-bfd0-7b299bd39d30",
   "metadata": {},
   "outputs": [
    {
     "name": "stderr",
     "output_type": "stream",
     "text": [
      "/Users/paolobrasolin/miniconda3/envs/banyan/lib/python3.9/site-packages/pandasdmx/remote.py:11: RuntimeWarning: optional dependency requests_cache is not installed; cache options to Session() have no effect\n",
      "  warn(\n"
     ]
    }
   ],
   "source": [
    "import pandasdmx as sdmx\n",
    "istat = sdmx.Request('ISTAT')"
   ]
  },
  {
   "cell_type": "code",
   "execution_count": 2,
   "id": "eff50172-f1ed-41c8-a84f-688ee1ab89ca",
   "metadata": {},
   "outputs": [
    {
     "data": {
      "text/plain": [
       "26_29                                      Deaths\n",
       "26_295                               Life  tables\n",
       "29_956    Resident foreigners and life conditions\n",
       "39_57                    Multiple causes of death\n",
       "82_87           Aspects of daily life - Household\n",
       "83_63                       Aspects of daily life\n",
       "83_85             Aspects of daily life - Persons\n",
       "dtype: object"
      ]
     },
     "execution_count": 2,
     "metadata": {},
     "output_type": "execute_result"
    }
   ],
   "source": [
    "df = sdmx.to_pandas(istat.dataflow().dataflow)\n",
    "df[df.str.contains('life|death', case=False)]"
   ]
  },
  {
   "cell_type": "code",
   "execution_count": 3,
   "id": "1ab2bbe1-e3cd-4ccb-9b4c-5703af0b4764",
   "metadata": {},
   "outputs": [
    {
     "data": {
      "text/plain": [
       "DictLike([('DCIS_MORTALITA1',\n",
       "           <DataStructureDefinition IT1:DCIS_MORTALITA1(1.0): Life  tables>)])"
      ]
     },
     "execution_count": 3,
     "metadata": {},
     "output_type": "execute_result"
    }
   ],
   "source": [
    "lt_msg = istat.dataflow('26_295')\n",
    "lt_msg.structure"
   ]
  },
  {
   "cell_type": "code",
   "execution_count": 4,
   "id": "40e080b7-2d5a-4dd8-a55a-e642d8035277",
   "metadata": {},
   "outputs": [
    {
     "data": {
      "text/plain": [
       "[<Dimension FREQ>,\n",
       " <Dimension ETA_CLASSI_ETA>,\n",
       " <Dimension ITTER107>,\n",
       " <Dimension SESSO>,\n",
       " <Dimension FUNZ_BIO>,\n",
       " <TimeDimension TIME_PERIOD>]"
      ]
     },
     "metadata": {},
     "output_type": "display_data"
    }
   ],
   "source": [
    "lt_ds = lt_msg.structure[\"DCIS_MORTALITA1\"]\n",
    "display(lt_ds.dimensions.components)\n",
    "#display(lt_ds.attributes.components)\n",
    "#display(lt_ds.measures.components)"
   ]
  },
  {
   "cell_type": "code",
   "execution_count": 5,
   "id": "fc9649d8-3d51-453d-b24b-c54e8eec1cef",
   "metadata": {},
   "outputs": [
    {
     "data": {
      "text/plain": [
       "<Dimension FREQ>"
      ]
     },
     "metadata": {},
     "output_type": "display_data"
    },
    {
     "data": {
      "text/plain": [
       "CL_FREQ\n",
       "A                      annual\n",
       "B    business (not supported)\n",
       "D                       daily\n",
       "E       event (not supported)\n",
       "H                 half-yearly\n",
       "M                     monthly\n",
       "Q                   quarterly\n",
       "W                      weekly\n",
       "Name: Frequency, dtype: object"
      ]
     },
     "metadata": {},
     "output_type": "display_data"
    },
    {
     "data": {
      "text/plain": [
       "<Dimension ETA_CLASSI_ETA>"
      ]
     },
     "metadata": {},
     "output_type": "display_data"
    },
    {
     "data": {
      "text/plain": [
       "CL_ETA1\n",
       "Y_UN3                              until 3 years\n",
       "Y0-5                                   0-5 years\n",
       "Y4-CE     4-starting age of compulsory education\n",
       "Y11-13                               11-13 years\n",
       "Y6-13                                 6-13 years\n",
       "                           ...                  \n",
       "Y35                                     35 years\n",
       "Y36                                     36 years\n",
       "Y37                                     37 years\n",
       "Y38                                     38 years\n",
       "Y39                                     39 years\n",
       "Name: Age class, Length: 301, dtype: object"
      ]
     },
     "metadata": {},
     "output_type": "display_data"
    },
    {
     "data": {
      "text/plain": [
       "<Dimension ITTER107>"
      ]
     },
     "metadata": {},
     "output_type": "display_data"
    },
    {
     "data": {
      "text/html": [
       "<div>\n",
       "<style scoped>\n",
       "    .dataframe tbody tr th:only-of-type {\n",
       "        vertical-align: middle;\n",
       "    }\n",
       "\n",
       "    .dataframe tbody tr th {\n",
       "        vertical-align: top;\n",
       "    }\n",
       "\n",
       "    .dataframe thead th {\n",
       "        text-align: right;\n",
       "    }\n",
       "</style>\n",
       "<table border=\"1\" class=\"dataframe\">\n",
       "  <thead>\n",
       "    <tr style=\"text-align: right;\">\n",
       "      <th></th>\n",
       "      <th>name</th>\n",
       "      <th>parent</th>\n",
       "    </tr>\n",
       "    <tr>\n",
       "      <th>CL_ITTER107</th>\n",
       "      <th></th>\n",
       "      <th></th>\n",
       "    </tr>\n",
       "  </thead>\n",
       "  <tbody>\n",
       "    <tr>\n",
       "      <th>IT</th>\n",
       "      <td>Italy</td>\n",
       "      <td></td>\n",
       "    </tr>\n",
       "    <tr>\n",
       "      <th>ITCD</th>\n",
       "      <td>Nord</td>\n",
       "      <td>IT</td>\n",
       "    </tr>\n",
       "    <tr>\n",
       "      <th>ITFG</th>\n",
       "      <td>Mezzogiorno</td>\n",
       "      <td>IT</td>\n",
       "    </tr>\n",
       "    <tr>\n",
       "      <th>ITF</th>\n",
       "      <td>Sud</td>\n",
       "      <td>IT</td>\n",
       "    </tr>\n",
       "    <tr>\n",
       "      <th>ITF1</th>\n",
       "      <td>Abruzzo</td>\n",
       "      <td>ITF</td>\n",
       "    </tr>\n",
       "    <tr>\n",
       "      <th>...</th>\n",
       "      <td>...</td>\n",
       "      <td>...</td>\n",
       "    </tr>\n",
       "    <tr>\n",
       "      <th>00</th>\n",
       "      <td>Raggruppamento a 107 province</td>\n",
       "      <td></td>\n",
       "    </tr>\n",
       "    <tr>\n",
       "      <th>ITNI</th>\n",
       "      <td>da precisare</td>\n",
       "      <td></td>\n",
       "    </tr>\n",
       "    <tr>\n",
       "      <th>ITNI1</th>\n",
       "      <td>Regioni diverse o non specificate</td>\n",
       "      <td>ITNI</td>\n",
       "    </tr>\n",
       "    <tr>\n",
       "      <th>ITNI12</th>\n",
       "      <td>Province diverse</td>\n",
       "      <td>ITNI1</td>\n",
       "    </tr>\n",
       "    <tr>\n",
       "      <th>ITNI13</th>\n",
       "      <td>Province non specificate e altri stati membri</td>\n",
       "      <td>ITNI1</td>\n",
       "    </tr>\n",
       "  </tbody>\n",
       "</table>\n",
       "<p>10931 rows × 2 columns</p>\n",
       "</div>"
      ],
      "text/plain": [
       "                                                      name parent\n",
       "CL_ITTER107                                                      \n",
       "IT                                                   Italy       \n",
       "ITCD                                                  Nord     IT\n",
       "ITFG                                           Mezzogiorno     IT\n",
       "ITF                                                    Sud     IT\n",
       "ITF1                                               Abruzzo    ITF\n",
       "...                                                    ...    ...\n",
       "00                           Raggruppamento a 107 province       \n",
       "ITNI                                          da precisare       \n",
       "ITNI1                    Regioni diverse o non specificate   ITNI\n",
       "ITNI12                                    Province diverse  ITNI1\n",
       "ITNI13       Province non specificate e altri stati membri  ITNI1\n",
       "\n",
       "[10931 rows x 2 columns]"
      ]
     },
     "metadata": {},
     "output_type": "display_data"
    },
    {
     "data": {
      "text/plain": [
       "<Dimension SESSO>"
      ]
     },
     "metadata": {},
     "output_type": "display_data"
    },
    {
     "data": {
      "text/plain": [
       "CL_SEXISTAT1\n",
       "3       n.a.\n",
       "2    females\n",
       "1      males\n",
       "9      total\n",
       "Name: Gender, dtype: object"
      ]
     },
     "metadata": {},
     "output_type": "display_data"
    },
    {
     "data": {
      "text/plain": [
       "<Dimension FUNZ_BIO>"
      ]
     },
     "metadata": {},
     "output_type": "display_data"
    },
    {
     "data": {
      "text/plain": [
       "CL_TIPO_DATO15\n",
       "PROBDEATH    probability of death (per thousand) - qx\n",
       "PROJPROB                  projection probability - Px\n",
       "Name: Data type 15, dtype: object"
      ]
     },
     "metadata": {},
     "output_type": "display_data"
    }
   ],
   "source": [
    "for component in lt_ds.dimensions.components[:-2]:\n",
    "    display(component)\n",
    "    display(sdmx.to_pandas(component.local_representation.enumerated))\n",
    "\n",
    "funz_bio_component = lt_ds.dimensions.components[-2]\n",
    "display(funz_bio_component)\n",
    "opts = sdmx.to_pandas(funz_bio_component.local_representation.enumerated)\n",
    "display(opts[opts.str.contains('probability', case=False)])"
   ]
  },
  {
   "cell_type": "code",
   "execution_count": 6,
   "id": "c4d39858-9595-48ea-84fb-734ff210e084",
   "metadata": {},
   "outputs": [],
   "source": [
    "key = dict(\n",
    "    FREQ='A',\n",
    "    ITTER107='IT',\n",
    "    FUNZ_BIO='PROJPROB',\n",
    "    SESSO='9',\n",
    "    TIME_PERIOD='2015',\n",
    ")\n",
    "\n",
    "data_msg = istat.data('26_295', key=key, params=dict(startPeriod='2015',endPeriod='2015'))"
   ]
  },
  {
   "cell_type": "code",
   "execution_count": 7,
   "id": "2de05959-6b81-4031-8e9f-600b3594ddce",
   "metadata": {},
   "outputs": [
    {
     "data": {
      "text/plain": [
       "FREQ  ETA_CLASSI_ETA  ITTER107  SESSO  FUNZ_BIO  TIME_PERIOD\n",
       "A     Y0              IT        9      PROJPROB  2015           0.999718\n",
       "      Y1              IT        9      PROJPROB  2015           0.999814\n",
       "      Y10             IT        9      PROJPROB  2015           0.999929\n",
       "      Y10-14          IT        9      PROJPROB  2015           0.999285\n",
       "      Y100            IT        9      PROJPROB  2015           0.590400\n",
       "                                                                  ...   \n",
       "      Y96             IT        9      PROJPROB  2015           0.723578\n",
       "      Y97             IT        9      PROJPROB  2015           0.683348\n",
       "      Y98             IT        9      PROJPROB  2015           0.641375\n",
       "      Y99             IT        9      PROJPROB  2015           0.608418\n",
       "      Y_UN4           IT        9      PROJPROB  2015           0.999453\n",
       "Name: value, Length: 144, dtype: float64"
      ]
     },
     "metadata": {},
     "output_type": "display_data"
    }
   ],
   "source": [
    "data = sdmx.to_pandas(data_msg)\n",
    "display(data)"
   ]
  },
  {
   "cell_type": "code",
   "execution_count": 8,
   "id": "c629a8f6-1f0f-490f-9837-30241f9b0b51",
   "metadata": {},
   "outputs": [
    {
     "data": {
      "text/html": [
       "<div>\n",
       "<style scoped>\n",
       "    .dataframe tbody tr th:only-of-type {\n",
       "        vertical-align: middle;\n",
       "    }\n",
       "\n",
       "    .dataframe tbody tr th {\n",
       "        vertical-align: top;\n",
       "    }\n",
       "\n",
       "    .dataframe thead th {\n",
       "        text-align: right;\n",
       "    }\n",
       "</style>\n",
       "<table border=\"1\" class=\"dataframe\">\n",
       "  <thead>\n",
       "    <tr style=\"text-align: right;\">\n",
       "      <th></th>\n",
       "      <th>p</th>\n",
       "    </tr>\n",
       "    <tr>\n",
       "      <th>y</th>\n",
       "      <th></th>\n",
       "    </tr>\n",
       "  </thead>\n",
       "  <tbody>\n",
       "    <tr>\n",
       "      <th>0</th>\n",
       "      <td>0.000282</td>\n",
       "    </tr>\n",
       "    <tr>\n",
       "      <th>1</th>\n",
       "      <td>0.000186</td>\n",
       "    </tr>\n",
       "    <tr>\n",
       "      <th>2</th>\n",
       "      <td>0.000143</td>\n",
       "    </tr>\n",
       "    <tr>\n",
       "      <th>3</th>\n",
       "      <td>0.000111</td>\n",
       "    </tr>\n",
       "    <tr>\n",
       "      <th>4</th>\n",
       "      <td>0.000089</td>\n",
       "    </tr>\n",
       "    <tr>\n",
       "      <th>...</th>\n",
       "      <td>...</td>\n",
       "    </tr>\n",
       "    <tr>\n",
       "      <th>115</th>\n",
       "      <td>0.815367</td>\n",
       "    </tr>\n",
       "    <tr>\n",
       "      <th>116</th>\n",
       "      <td>0.833977</td>\n",
       "    </tr>\n",
       "    <tr>\n",
       "      <th>117</th>\n",
       "      <td>0.851037</td>\n",
       "    </tr>\n",
       "    <tr>\n",
       "      <th>118</th>\n",
       "      <td>0.866590</td>\n",
       "    </tr>\n",
       "    <tr>\n",
       "      <th>119</th>\n",
       "      <td>0.880651</td>\n",
       "    </tr>\n",
       "  </tbody>\n",
       "</table>\n",
       "<p>120 rows × 1 columns</p>\n",
       "</div>"
      ],
      "text/plain": [
       "            p\n",
       "y            \n",
       "0    0.000282\n",
       "1    0.000186\n",
       "2    0.000143\n",
       "3    0.000111\n",
       "4    0.000089\n",
       "..        ...\n",
       "115  0.815367\n",
       "116  0.833977\n",
       "117  0.851037\n",
       "118  0.866590\n",
       "119  0.880651\n",
       "\n",
       "[120 rows x 1 columns]"
      ]
     },
     "metadata": {},
     "output_type": "display_data"
    }
   ],
   "source": [
    "d = data.reset_index(level=['ETA_CLASSI_ETA'])\n",
    "d = d.reset_index(drop=True)\n",
    "d.columns = ['y', 'p']\n",
    "\n",
    "d = d[d['y'].str.contains('^Y\\d+$')]\n",
    "d['y'] = d['y'].str[1:].astype(int)\n",
    "d['p'] = d['p'].apply(lambda x: 1-x)\n",
    "\n",
    "d = d.sort_values(by='y')\n",
    "d = d.set_index('y')\n",
    "display(d)"
   ]
  },
  {
   "cell_type": "code",
   "execution_count": 14,
   "id": "3a86705f-5beb-4d9c-8f99-1c5ce5304444",
   "metadata": {},
   "outputs": [
    {
     "data": {
      "image/png": "[encoded data removed]",
      "text/plain": [
       "<Figure size 432x288 with 1 Axes>"
      ]
     },
     "metadata": {
      "needs_background": "light"
     },
     "output_type": "display_data"
    }
   ],
   "source": [
    "import matplotlib.pyplot as plt\n",
    "import numpy as np\n",
    "\n",
    "d.plot()\n",
    "y = np.arange(120)\n",
    "plt.plot(y, np.exp(10/120*y-10))\n",
    "plt.yscale('log')"
   ]
  },
  {
   "cell_type": "markdown",
   "id": "ade3541e-2634-4b9e-8362-63509c632998",
   "metadata": {},
   "source": [
    "So, the moral of the story is that $f(x)=e^{10/120*x-10}$ is in the right ballpark for the probability of dying at age $x$.\n",
    "The numbers mean that nobody gets over $120$ and the probability of dying before the first year is one in $e^{10}\\simeq22000$."
   ]
  },
  {
   "cell_type": "code",
   "execution_count": null,
   "id": "220a3312-1ce1-4d54-9b02-1455b77aecaf",
   "metadata": {},
   "outputs": [],
   "source": []
  }
 ],
 "metadata": {
  "kernelspec": {
   "display_name": "Python 3",
   "language": "python",
   "name": "python3"
  },
  "language_info": {
   "codemirror_mode": {
    "name": "ipython",
    "version": 3
   },
   "file_extension": ".py",
   "mimetype": "text/x-python",
   "name": "python",
   "nbconvert_exporter": "python",
   "pygments_lexer": "ipython3",
   "version": "3.9.4"
  }
 },
 "nbformat": 4,
 "nbformat_minor": 5
}
